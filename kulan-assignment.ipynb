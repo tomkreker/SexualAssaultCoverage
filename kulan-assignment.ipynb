{
 "cells": [
  {
   "cell_type": "markdown",
   "metadata": {},
   "source": [
    "## Scrape data"
   ]
  },
  {
   "cell_type": "code",
   "execution_count": 2,
   "metadata": {},
   "outputs": [],
   "source": [
    "'''\n",
    "Imports modules and libraries needed for web scraping! \n",
    "'''\n",
    "import time #for pausing the scrap\n",
    "from bs4 import BeautifulSoup #for reading and parsing html\n",
    "import requests #for requesting a link's html code\n",
    "from tqdm import tqdm #for progress bar to keep track of iterator time estimate\n",
    "import re #regular expression for cleaning text\n",
    "from nltk.tokenize import word_tokenize #for tokenising string into bag of words!\n",
    "\n",
    "# for wordcloud\n",
    "from wordcloud import WordCloud\n",
    "from bidi.algorithm import get_display\n",
    "\n",
    "# general\n",
    "import pandas as pd \n",
    "import numpy as np\n",
    "import pickle\n",
    "import matplotlib.pyplot as plt\n",
    "\n",
    "# identification to scraped websites\n",
    "headers = {\"user-agent\" : \"Chrome/84.6.35.5045 (Windows NT 10.0; Win64; x64)\",\n",
    "            \"from\": \"Student working on a university project.)\"}"
   ]
  },
  {
   "cell_type": "code",
   "execution_count": 382,
   "metadata": {},
   "outputs": [],
   "source": [
    "'''\n",
    "This code goes through a webpage of Walla news archive in the format\n",
    "'https://news.walla.co.il/archive/1?year=2020&month=3&page=1' after it was parsed by BeautifulSoup\n",
    "and extracts the titles, subtitles, reporter, date, and links of all 50 articles in the page.\n",
    "'''\n",
    "\n",
    "def extract_titles(soup): \n",
    "\n",
    "    # an array that will contain all new articles for the page\n",
    "    page_rows = []\n",
    "    \n",
    "    # find the part of the page with all article links\n",
    "    all_content = soup.find(\"div\", class_=\"css-18xwv1d\")\n",
    "\n",
    "    # get all links to items\n",
    "    all_links = all_content.find_all(\"a\",href=True)\n",
    "    link_urls = [l['href'] for l in all_links]\n",
    "        \n",
    "    # Look into all article 'boxes' in the page\n",
    "    all_groupings = all_content.find_all(\"div\", class_=\"content\")\n",
    "\n",
    "    # for each article\n",
    "    for i, grouping in enumerate(all_groupings):\n",
    "        # get title, subtitle, reporter name, and date publisjed\n",
    "        title = grouping.find(\"h3\").get_text()\n",
    "        subtitle = grouping.find(\"p\").get_text()\n",
    "        reporter = grouping.find('div', class_='author').get_text()\n",
    "        date = grouping.find('div', class_='pub-date').get_text()\n",
    "        \n",
    "        # make a data dictionary that will be written into the csv\n",
    "        row = { \"date\": date,\n",
    "                \"title\": title,\n",
    "                \"subtitle\": subtitle,\n",
    "                \"reporter\": reporter,\n",
    "                \"link\": link_urls[i]}\n",
    "        \n",
    "        # fix the first row's reporter name which is not extracted simply by using the get text on the div\n",
    "        if i==0:\n",
    "            row['reporter'] = ''.join(e for e in t if (e==' ' or (not e.islower() and e.isalnum() and not e.isnumeric())))\n",
    "        \n",
    "        page_rows.append(row)\n",
    "        \n",
    "    return(page_rows)"
   ]
  },
  {
   "cell_type": "code",
   "execution_count": 383,
   "metadata": {},
   "outputs": [
    {
     "name": "stderr",
     "output_type": "stream",
     "text": [
      "  8%|▊         | 1/12 [01:53<20:49, 113.63s/it]"
     ]
    },
    {
     "name": "stdout",
     "output_type": "stream",
     "text": [
      "starting a new month\n"
     ]
    },
    {
     "name": "stderr",
     "output_type": "stream",
     "text": [
      "\r",
      " 17%|█▋        | 2/12 [03:30<18:07, 108.71s/it]"
     ]
    },
    {
     "name": "stdout",
     "output_type": "stream",
     "text": [
      "starting a new month\n"
     ]
    },
    {
     "name": "stderr",
     "output_type": "stream",
     "text": [
      "\r",
      " 25%|██▌       | 3/12 [05:10<15:54, 106.03s/it]"
     ]
    },
    {
     "name": "stdout",
     "output_type": "stream",
     "text": [
      "starting a new month\n"
     ]
    },
    {
     "name": "stderr",
     "output_type": "stream",
     "text": [
      "\r",
      " 33%|███▎      | 4/12 [06:50<13:53, 104.24s/it]"
     ]
    },
    {
     "name": "stdout",
     "output_type": "stream",
     "text": [
      "starting a new month\n"
     ]
    },
    {
     "name": "stderr",
     "output_type": "stream",
     "text": [
      "\r",
      " 42%|████▏     | 5/12 [08:46<12:33, 107.60s/it]"
     ]
    },
    {
     "name": "stdout",
     "output_type": "stream",
     "text": [
      "starting a new month\n"
     ]
    },
    {
     "name": "stderr",
     "output_type": "stream",
     "text": [
      "\r",
      " 50%|█████     | 6/12 [10:43<11:03, 110.61s/it]"
     ]
    },
    {
     "name": "stdout",
     "output_type": "stream",
     "text": [
      "starting a new month\n"
     ]
    },
    {
     "name": "stderr",
     "output_type": "stream",
     "text": [
      "\r",
      " 58%|█████▊    | 7/12 [12:40<09:21, 112.32s/it]"
     ]
    },
    {
     "name": "stdout",
     "output_type": "stream",
     "text": [
      "starting a new month\n"
     ]
    },
    {
     "name": "stderr",
     "output_type": "stream",
     "text": [
      "\r",
      " 67%|██████▋   | 8/12 [14:22<07:17, 109.27s/it]"
     ]
    },
    {
     "name": "stdout",
     "output_type": "stream",
     "text": [
      "starting a new month\n"
     ]
    },
    {
     "name": "stderr",
     "output_type": "stream",
     "text": [
      "\r",
      " 75%|███████▌  | 9/12 [15:48<05:07, 102.50s/it]"
     ]
    },
    {
     "name": "stdout",
     "output_type": "stream",
     "text": [
      "starting a new month\n"
     ]
    },
    {
     "name": "stderr",
     "output_type": "stream",
     "text": [
      "\r",
      " 83%|████████▎ | 10/12 [17:46<03:34, 107.14s/it]"
     ]
    },
    {
     "name": "stdout",
     "output_type": "stream",
     "text": [
      "starting a new month\n"
     ]
    },
    {
     "name": "stderr",
     "output_type": "stream",
     "text": [
      "\r",
      " 92%|█████████▏| 11/12 [19:29<01:45, 105.82s/it]"
     ]
    },
    {
     "name": "stdout",
     "output_type": "stream",
     "text": [
      "starting a new month\n"
     ]
    },
    {
     "name": "stderr",
     "output_type": "stream",
     "text": [
      "100%|██████████| 12/12 [21:25<00:00, 107.15s/it]"
     ]
    },
    {
     "name": "stdout",
     "output_type": "stream",
     "text": [
      "starting a new month\n"
     ]
    },
    {
     "name": "stderr",
     "output_type": "stream",
     "text": [
      "\n"
     ]
    }
   ],
   "source": [
    "'''\n",
    "This code finds all of the news pages of a given year. Every page has 50 articles and\n",
    "a link to the next page, except for the last one. This block of code visits the first\n",
    "page of the category, scrapes it using the function above, then finds the link to the \n",
    "next page and visits it until all pages for that year are scraped.  \n",
    "'''\n",
    "# an array that will contain the scraped dataset\n",
    "all_rows=[]\n",
    "\n",
    "# an array to hold page URLs to visit\n",
    "pages=[]\n",
    "\n",
    "# A counter to monitor which URL should be visited next\n",
    "counter = 0\n",
    "\n",
    "# for each month\n",
    "for m in tqdm(range(1,13)):\n",
    "    # set up the first URL based on the month, page=1\n",
    "    start_page = 'https://news.walla.co.il/archive/1?year=2019&month='+str(m)+'&page=1'\n",
    "    \n",
    "    # add it to the list of pages to scrape\n",
    "    pages.append(start_page)\n",
    "    \n",
    "    while pages[counter]: # while there are still pages left to scrape\n",
    "\n",
    "        # rest scraper for a long time to be safe\n",
    "        time.sleep(11)\n",
    "\n",
    "        # request the page html\n",
    "        #print('scraping:', pages[counter])\n",
    "        page = requests.get(pages[counter], headers= headers)\n",
    "        soup = BeautifulSoup(page.content, \"html.parser\")\n",
    "        \n",
    "        # scrape info of articles on that apge\n",
    "        new_rows = extract_titles(soup)\n",
    "        all_rows += new_rows\n",
    "\n",
    "        # find link to the next page\n",
    "        next_ = soup.find(\"a\", class_=\"next walla-icon-next\")\n",
    "\n",
    "        # if a link exists, add it to the list of pages to visit and up the counter\n",
    "        if next_ is not None:\n",
    "            next_page = next_['href']\n",
    "            pages.append(next_page)\n",
    "            counter += 1\n",
    "\n",
    "        # else, break while loop if the page has no next page and move to next month\n",
    "        else:\n",
    "            counter+=1\n",
    "            break"
   ]
  },
  {
   "cell_type": "code",
   "execution_count": 384,
   "metadata": {},
   "outputs": [],
   "source": [
    "#write list of dictionaries into a datafrme\n",
    "new_df = pd.DataFrame(all_rows) \n",
    "\n",
    "# save to file\n",
    "# pickle.dump(new_df, open( \"2019data.p\", \"wb\"))\n",
    "\n",
    "# read from file \n",
    "# new_df = pd.read_pickle(\"./jan2020data.p\") "
   ]
  },
  {
   "cell_type": "code",
   "execution_count": 386,
   "metadata": {},
   "outputs": [
    {
     "data": {
      "text/html": [
       "<div>\n",
       "<style scoped>\n",
       "    .dataframe tbody tr th:only-of-type {\n",
       "        vertical-align: middle;\n",
       "    }\n",
       "\n",
       "    .dataframe tbody tr th {\n",
       "        vertical-align: top;\n",
       "    }\n",
       "\n",
       "    .dataframe thead th {\n",
       "        text-align: right;\n",
       "    }\n",
       "</style>\n",
       "<table border=\"1\" class=\"dataframe\">\n",
       "  <thead>\n",
       "    <tr style=\"text-align: right;\">\n",
       "      <th></th>\n",
       "      <th>date</th>\n",
       "      <th>title</th>\n",
       "      <th>subtitle</th>\n",
       "      <th>reporter</th>\n",
       "      <th>link</th>\n",
       "    </tr>\n",
       "  </thead>\n",
       "  <tbody>\n",
       "    <tr>\n",
       "      <th>4205</th>\n",
       "      <td>09:10 01/12/2019</td>\n",
       "      <td>עשרות טורבינות בגובה 200 מטר: התכנית שמאיימת ע...</td>\n",
       "      <td>ביישובים הדרוזים ברמת הגולן חוששים כי בישיבת ה...</td>\n",
       "      <td>אלי אשכנזי</td>\n",
       "      <td>https://news.walla.co.il/item/3326774</td>\n",
       "    </tr>\n",
       "    <tr>\n",
       "      <th>4206</th>\n",
       "      <td>08:55 01/12/2019</td>\n",
       "      <td>תאונה קשה בגבעת זאב: אם ובתה התינוקת נהרגו, יל...</td>\n",
       "      <td>בתאונה הקשה בכביש 443, נהרגו ציפי בת ה-34 מנוו...</td>\n",
       "      <td>מאיה הורודניצ'אנו, בועז אפרת, לירן לוי ויואב א...</td>\n",
       "      <td>https://news.walla.co.il/item/3326732</td>\n",
       "    </tr>\n",
       "    <tr>\n",
       "      <th>4207</th>\n",
       "      <td>05:00 01/12/2019</td>\n",
       "      <td>מעשנים הרבה, מתחסנים פחות: נתוני הבריאות של הי...</td>\n",
       "      <td>דוח המכון הלאומי לחקר מדיניות הבריאות מגלה שיפ...</td>\n",
       "      <td>בועז אפרת</td>\n",
       "      <td>https://news.walla.co.il/item/3326736</td>\n",
       "    </tr>\n",
       "    <tr>\n",
       "      <th>4208</th>\n",
       "      <td>05:00 01/12/2019</td>\n",
       "      <td>שנה שנייה ברציפות: עלייה במספר נשאי האיידס החד...</td>\n",
       "      <td>לרגל יום האיידס הבינלאומי, חושף דוח משרד הבריא...</td>\n",
       "      <td>בועז אפרת</td>\n",
       "      <td>https://news.walla.co.il/item/3326735</td>\n",
       "    </tr>\n",
       "    <tr>\n",
       "      <th>4209</th>\n",
       "      <td>04:25 01/12/2019</td>\n",
       "      <td>סערה מתקרבת: הגשמים ישובו לקראת הערב, חשש לשיט...</td>\n",
       "      <td>הטמפרטורות מתקררות לקראת יממה סוערת, ומה שיתחי...</td>\n",
       "      <td>יואב איתיאל</td>\n",
       "      <td>https://news.walla.co.il/item/3326740</td>\n",
       "    </tr>\n",
       "  </tbody>\n",
       "</table>\n",
       "</div>"
      ],
      "text/plain": [
       "                  date                                              title  \\\n",
       "4205  09:10 01/12/2019  עשרות טורבינות בגובה 200 מטר: התכנית שמאיימת ע...   \n",
       "4206  08:55 01/12/2019  תאונה קשה בגבעת זאב: אם ובתה התינוקת נהרגו, יל...   \n",
       "4207  05:00 01/12/2019  מעשנים הרבה, מתחסנים פחות: נתוני הבריאות של הי...   \n",
       "4208  05:00 01/12/2019  שנה שנייה ברציפות: עלייה במספר נשאי האיידס החד...   \n",
       "4209  04:25 01/12/2019  סערה מתקרבת: הגשמים ישובו לקראת הערב, חשש לשיט...   \n",
       "\n",
       "                                               subtitle  \\\n",
       "4205  ביישובים הדרוזים ברמת הגולן חוששים כי בישיבת ה...   \n",
       "4206  בתאונה הקשה בכביש 443, נהרגו ציפי בת ה-34 מנוו...   \n",
       "4207  דוח המכון הלאומי לחקר מדיניות הבריאות מגלה שיפ...   \n",
       "4208  לרגל יום האיידס הבינלאומי, חושף דוח משרד הבריא...   \n",
       "4209  הטמפרטורות מתקררות לקראת יממה סוערת, ומה שיתחי...   \n",
       "\n",
       "                                               reporter  \\\n",
       "4205                                         אלי אשכנזי   \n",
       "4206  מאיה הורודניצ'אנו, בועז אפרת, לירן לוי ויואב א...   \n",
       "4207                                          בועז אפרת   \n",
       "4208                                          בועז אפרת   \n",
       "4209                                        יואב איתיאל   \n",
       "\n",
       "                                       link  \n",
       "4205  https://news.walla.co.il/item/3326774  \n",
       "4206  https://news.walla.co.il/item/3326732  \n",
       "4207  https://news.walla.co.il/item/3326736  \n",
       "4208  https://news.walla.co.il/item/3326735  \n",
       "4209  https://news.walla.co.il/item/3326740  "
      ]
     },
     "execution_count": 386,
     "metadata": {},
     "output_type": "execute_result"
    }
   ],
   "source": [
    "#preview!\n",
    "new_df.tail()"
   ]
  },
  {
   "cell_type": "markdown",
   "metadata": {},
   "source": [
    "### Add normalized words column per article"
   ]
  },
  {
   "cell_type": "code",
   "execution_count": 387,
   "metadata": {},
   "outputs": [
    {
     "name": "stderr",
     "output_type": "stream",
     "text": [
      "100%|██████████| 4210/4210 [2:35:08<00:00,  2.21s/it]  \n"
     ]
    }
   ],
   "source": [
    "'''get an array of normalized words without punctuation using the HebrewNLP API.\n",
    "   runtime for 300 articles: about 2 minutes. \n",
    "   For 4210 took 2hours, but I didnt really need to rest it so would take much less.'''\n",
    "\n",
    "# an array that hold the new column with normalized words per article\n",
    "words_column = []\n",
    "\n",
    "ignore = ['מ#', # values returned by the API for numbers\n",
    "         'ג#'] \n",
    "\n",
    "for i in tqdm(range(new_df.shape[0])): # iterate over all rows\n",
    "    # create request object for API\n",
    "    request = {\n",
    "        'token': 'EGxhAVjlYSoRNsN',\n",
    "        'readable': False,\n",
    "        'paragraph':  new_df.title[i]+'. '+new_df.subtitle[i]\n",
    "    }\n",
    "    \n",
    "    # get result from API\n",
    "    result = requests.post('https://hebrew-nlp.co.il/service/Morphology/Analyze', json=request).json()\n",
    "\n",
    "    # an array that will host all words in the text\n",
    "    all_words =  []\n",
    "    for sentence in result:\n",
    "        for word in sentence:\n",
    "            # word[0] is the API's best suggestion, 'baseWord' is the normalized word\n",
    "            all_words.append(word[0]['baseWord']) \n",
    "\n",
    "    # remove numbers\n",
    "    clean_words = [c for c in all_words if len(c)>1 and c not in ignore]\n",
    "    joined = ' '.join(clean_words) # make into a long string for saving in the DF\n",
    "    words_column.append(joined)\n",
    "    \n",
    "new_df.loc[:,'norm_words'] = words_column # create the new column"
   ]
  },
  {
   "cell_type": "markdown",
   "metadata": {},
   "source": [
    "### Load saved data\n",
    "after adding normalized words column via HebrewNLP API"
   ]
  },
  {
   "cell_type": "code",
   "execution_count": 3,
   "metadata": {},
   "outputs": [],
   "source": [
    "# save to file\n",
    "# pickle.dump(new_df, open( \"2019data_norm.p\", \"wb\"))\n",
    "\n",
    "# read from file \n",
    "new_df = pd.read_pickle(\"./2019data_norm.p\") "
   ]
  },
  {
   "cell_type": "code",
   "execution_count": 4,
   "metadata": {},
   "outputs": [
    {
     "data": {
      "text/html": [
       "<div>\n",
       "<style scoped>\n",
       "    .dataframe tbody tr th:only-of-type {\n",
       "        vertical-align: middle;\n",
       "    }\n",
       "\n",
       "    .dataframe tbody tr th {\n",
       "        vertical-align: top;\n",
       "    }\n",
       "\n",
       "    .dataframe thead th {\n",
       "        text-align: right;\n",
       "    }\n",
       "</style>\n",
       "<table border=\"1\" class=\"dataframe\">\n",
       "  <thead>\n",
       "    <tr style=\"text-align: right;\">\n",
       "      <th></th>\n",
       "      <th>date</th>\n",
       "      <th>title</th>\n",
       "      <th>subtitle</th>\n",
       "      <th>reporter</th>\n",
       "      <th>link</th>\n",
       "      <th>norm_words</th>\n",
       "    </tr>\n",
       "  </thead>\n",
       "  <tbody>\n",
       "    <tr>\n",
       "      <th>0</th>\n",
       "      <td>19:38 31/01/2019</td>\n",
       "      <td>מסתמן: היועמ\"ש סיים לדון בתיקי נתניהו וימסור ב...</td>\n",
       "      <td>על פי הדיווחים במהדורות החדשות, מנדלבליט צפוי ...</td>\n",
       "      <td>בועז אפרת</td>\n",
       "      <td>https://news.walla.co.il/item/3216463</td>\n",
       "      <td>הסתמנ היועמ\"ש סיימ דנ תיק נתניהו מסר בקרוב את ...</td>\n",
       "    </tr>\n",
       "    <tr>\n",
       "      <th>1</th>\n",
       "      <td>19:31 31/01/2019</td>\n",
       "      <td>עתירה נגד הרשות לפיתוח י-ם: מסתירה מידע חיוני ...</td>\n",
       "      <td>ארגון \"עמק שווה\" ותושבים נוספים בעיר המתנגדים ...</td>\n",
       "      <td>מאיה הורודניצ'אנו</td>\n",
       "      <td>https://news.walla.co.il/item/3216441</td>\n",
       "      <td>עתיר נגד רשות פיתוח סתירה מידע חיוני על רכבל כ...</td>\n",
       "    </tr>\n",
       "    <tr>\n",
       "      <th>2</th>\n",
       "      <td>19:26 31/01/2019</td>\n",
       "      <td>כייסים, שודדים ומתחזים: הכירו את תיירי הפשע שנ...</td>\n",
       "      <td>בבתי המעצר ברחבי הארץ יושבים כרגע עשרה תיירים ...</td>\n",
       "      <td>אבי אשכנזי</td>\n",
       "      <td>https://news.walla.co.il/item/3216429</td>\n",
       "      <td>כייס שודד התחזה הכיר את תייר פשע נחת ישראל בית...</td>\n",
       "    </tr>\n",
       "    <tr>\n",
       "      <th>3</th>\n",
       "      <td>18:32 31/01/2019</td>\n",
       "      <td>\"היא עצבנה אותי\": צעיר רצח את הכלב של חברתו שב...</td>\n",
       "      <td>המקרה הקשה התרחש בחיפה לפני כחודש, אך רק אתמול...</td>\n",
       "      <td>יואב איתיאל</td>\n",
       "      <td>https://news.walla.co.il/item/3216447</td>\n",
       "      <td>הוא עיצב את צעיר רצח את כלב של חברה ביקש נפרד ...</td>\n",
       "    </tr>\n",
       "    <tr>\n",
       "      <th>4</th>\n",
       "      <td>16:17 31/01/2019</td>\n",
       "      <td>\"דבר כמו במכות מצרים\": 5,000 כבשים ועזים נחשפו...</td>\n",
       "      <td>דוח של משרד החקלאות קבע כי מחלת הדבר התפרצה בע...</td>\n",
       "      <td>יואב איתיאל</td>\n",
       "      <td>https://news.walla.co.il/item/3216326</td>\n",
       "      <td>דבר כמו מכה מצרי כבש עז נחשפ מחלה הסגר דוח של ...</td>\n",
       "    </tr>\n",
       "  </tbody>\n",
       "</table>\n",
       "</div>"
      ],
      "text/plain": [
       "               date                                              title  \\\n",
       "0  19:38 31/01/2019  מסתמן: היועמ\"ש סיים לדון בתיקי נתניהו וימסור ב...   \n",
       "1  19:31 31/01/2019  עתירה נגד הרשות לפיתוח י-ם: מסתירה מידע חיוני ...   \n",
       "2  19:26 31/01/2019  כייסים, שודדים ומתחזים: הכירו את תיירי הפשע שנ...   \n",
       "3  18:32 31/01/2019  \"היא עצבנה אותי\": צעיר רצח את הכלב של חברתו שב...   \n",
       "4  16:17 31/01/2019  \"דבר כמו במכות מצרים\": 5,000 כבשים ועזים נחשפו...   \n",
       "\n",
       "                                            subtitle           reporter  \\\n",
       "0  על פי הדיווחים במהדורות החדשות, מנדלבליט צפוי ...          בועז אפרת   \n",
       "1  ארגון \"עמק שווה\" ותושבים נוספים בעיר המתנגדים ...  מאיה הורודניצ'אנו   \n",
       "2  בבתי המעצר ברחבי הארץ יושבים כרגע עשרה תיירים ...         אבי אשכנזי   \n",
       "3  המקרה הקשה התרחש בחיפה לפני כחודש, אך רק אתמול...        יואב איתיאל   \n",
       "4  דוח של משרד החקלאות קבע כי מחלת הדבר התפרצה בע...        יואב איתיאל   \n",
       "\n",
       "                                    link  \\\n",
       "0  https://news.walla.co.il/item/3216463   \n",
       "1  https://news.walla.co.il/item/3216441   \n",
       "2  https://news.walla.co.il/item/3216429   \n",
       "3  https://news.walla.co.il/item/3216447   \n",
       "4  https://news.walla.co.il/item/3216326   \n",
       "\n",
       "                                          norm_words  \n",
       "0  הסתמנ היועמ\"ש סיימ דנ תיק נתניהו מסר בקרוב את ...  \n",
       "1  עתיר נגד רשות פיתוח סתירה מידע חיוני על רכבל כ...  \n",
       "2  כייס שודד התחזה הכיר את תייר פשע נחת ישראל בית...  \n",
       "3  הוא עיצב את צעיר רצח את כלב של חברה ביקש נפרד ...  \n",
       "4  דבר כמו מכה מצרי כבש עז נחשפ מחלה הסגר דוח של ...  "
      ]
     },
     "execution_count": 4,
     "metadata": {},
     "output_type": "execute_result"
    }
   ],
   "source": [
    "# Preview again\n",
    "new_df.head()"
   ]
  },
  {
   "cell_type": "markdown",
   "metadata": {},
   "source": [
    "### Find sexaul assault related articles\n",
    "\n",
    "So far we got all articles, now we want to extract only those related to the analysis."
   ]
  },
  {
   "cell_type": "code",
   "execution_count": 5,
   "metadata": {},
   "outputs": [
    {
     "name": "stdout",
     "output_type": "stream",
     "text": [
      "['פדופיליה', 'פדופיל', 'מינ', 'מיני', 'מינה', 'אינטימי', 'אונס', 'מגונה', 'גונה', 'סקס', 'אנס', 'אינס', 'נאנס', 'יחס', 'הטריד', 'טרדה', 'שכב']\n"
     ]
    }
   ],
   "source": [
    "'''get an array of normalized words that are indicative of sexual assault stories\n",
    "   and compare it against the normalized words colunmn per article created above'''\n",
    "\n",
    "relevant_words = 'פדופיליה פדופיל מין מיני מינית אינטימיים אונס מגונים מגונה סקס אנס נאנס נאנסה יחסים הטריד הטרדה שכב'\n",
    "# I might remove two words here that made significant amount of noise \n",
    "# and might try adding them in conjuction with some other words.\n",
    "\n",
    "# get the normalized version of these words to compare with the normalized words column\n",
    "request = {\n",
    "    'token': 'EGxhAVjlYSoRNsN',\n",
    "    'readable': False,\n",
    "    'paragraph':  relevant_words\n",
    "}\n",
    "\n",
    "test_result = requests.post('https://hebrew-nlp.co.il/service/Morphology/Analyze', json=request).json()\n",
    "\n",
    "# extract best guess for the normalized form of each word\n",
    "sexual_assault_words =  []\n",
    "for sentence in test_result:\n",
    "    for word in sentence:\n",
    "        sexual_assault_words.append(word[0]['baseWord'])\n",
    "        \n",
    "sexual_assault_words.remove('.') # remove period which gets added in automatically\n",
    "print(sexual_assault_words) # the words"
   ]
  },
  {
   "cell_type": "code",
   "execution_count": 22,
   "metadata": {},
   "outputs": [
    {
     "name": "stdout",
     "output_type": "stream",
     "text": [
      "Found 348 articles with SA words\n",
      "19 articles to remove\n",
      "329 articles after removal\n"
     ]
    }
   ],
   "source": [
    "'''Search which titles or subtitles contain these words'''\n",
    "\n",
    "# array to contain indices of articles\n",
    "indices=[]\n",
    "\n",
    "# iterate over the lists of all words in each article\n",
    "for i, text in enumerate(new_df.norm_words.values):\n",
    "    words = text.split(' ')  # make into a list of words again\n",
    "    if any(sx in words for sx in sexual_assault_words): # if any word of the above\n",
    "        indices.append(i)\n",
    "\n",
    "print(f'Found {len(indices)} articles with SA words')\n",
    "\n",
    "# The script from hereremove cases where unrelated words get identified\n",
    "# (false positives) because their normalized form is sort of like 'sex' \n",
    "\n",
    "should_not_contain = ['מינה',\n",
    "                       'נתניהו', \n",
    "                      'מינתה',\n",
    "                     'מניין']\n",
    "\n",
    "remov = []\n",
    "for i in indices:\n",
    "    if (any(w in new_df.title[i].split(' ') for w in should_not_contain) or\n",
    "        any(w in new_df.subtitle[i].split(' ') for w in should_not_contain)):\n",
    "            remov.append(i)\n",
    "\n",
    "print(len(remov), 'articles to remove')\n",
    "[indices.remove(r) for r in remov]\n",
    "print(len(indices), 'articles after removal')"
   ]
  },
  {
   "cell_type": "markdown",
   "metadata": {},
   "source": [
    "#### When working with 'df' - only one Jan 2020:\n",
    "25 results out of 304 articles. 7 false positives because of the following issues:\n",
    "1. Mina --> can take the indices and check if 'mina' is in norm_words\n",
    "2. Hatrada --> remove hatrada for all data.\n",
    "3. Minyan --> can remove based on norm_words, probably few errors\n",
    "4. Yahasim  --> that is noisy, but also one of the problematic cases. maybe should do a separate search for this one plus other words isha, nashim, hashud, etc. I can keep only if 'yahashey' or 'yahasim' in all_words or kiem/nihel yahasim.\n",
    "\n",
    "Manual check of all articles showed there were no false negatives (i.e. no titles this did not detect)\n",
    "\n",
    "#### When working with new_df - the entire 2020:\n",
    "1. 245 after removing hatrada and yahasim, 348 with, and it seems after manually checking that most are false positives. So I'll exclude the two noisy words when getting more data.\n",
    "2. Care with gender division - include something that covers kids/teenagers (looks like a significant amount...).\n",
    "3. Main events - Malca leifer, 7 year old, british in cyprus. Spam terms: bibi, 'yahas', hatrada ed medina. \n",
    "\n",
    "I should probably drop 'hatrada' and 'yahas' for the final df because these cause lots of noise "
   ]
  },
  {
   "cell_type": "code",
   "execution_count": 379,
   "metadata": {},
   "outputs": [
    {
     "data": {
      "text/plain": [
       "'בית המשפט התיר לפרסם כי נעצר חשוד במעשה בן 64, אך יתר פרטי החקירה נותרו חסויים. מעצרו של החשוד הוארך בשבוע והמשטרה טענה כי מדובר בחקירה מורכבת. פריצת הדרך בחקירה התאפשרה בזכות התפתחות טכנולוגית. אם קורבן הרצח והאונס: \"כשייתנו עונש, אאמין שהחשוד נתפס\"'"
      ]
     },
     "execution_count": 379,
     "metadata": {},
     "output_type": "execute_result"
    }
   ],
   "source": [
    "# a cell for manually examining indices\n",
    "ind = 616\n",
    "new_df.subtitle[ind]"
   ]
  },
  {
   "cell_type": "code",
   "execution_count": 43,
   "metadata": {},
   "outputs": [],
   "source": [
    "# a cell for writing down false positives\n",
    "\n",
    "# FPs yahas / hatrada: 7, 21, 227, 331, 372, 474, 542, 555, 581, 614, 645, 704, 780, 799, 800, 802, 894, 992, 1017, 1043, \n",
    "#                    1129, 1265, 1295, 1303, 1349, 1459, 1476, 1543, 1686, 1698, 1699, 1803, 1824, 1892, 2149, 2210, 2329,\n",
    "#                    2462, 2463, 2476, 2486, 2511, 2585, 2633, 2680, 2684, 2702, 2744, 2750, 2764, 2767, 2782, 2785, 2789,\n",
    "#                    2902, 3023, 3047, 3059, 3063, 3131, 3143, 3154, 3159, 3180, 3186, 3199, 3221, 3493, 3496, 3514, 3526,\n",
    "#                    3580, 3595, 3603, 3618, 3678, 3692, 3694, 3729, 3731, 3763, 3801, 3839, 3901, 4005, 4032, 4040, 4046,\n",
    "#                    4083, 4115, 4125, 4126, 3918, 3958\n",
    "# FP sex/rape: 69, 96, 166, 182, 186, 188, 192, 193, 194, 640, 863, 2940, 2937, 4007, 4171, (lots of Efi Nave), 778, 853, 953, \n",
    "#              2051,  2616 (jesus), 2868, 1167, 1225, 1654, 3537, 3540, 3594, 3598, 3840, \n",
    "# old 20y rape: 531, 539, 552, 616\n",
    "# malca: 459, 503, 516, 519, 955, 2929, 3239, 3386, \n",
    "# main stories that can serve as case studies: malca, katusa 7yo binyamin (big event), zikim, cyprus\n",
    "\n",
    "# for i in indices:\n",
    "#     print(i, new_df.title.values[i])"
   ]
  },
  {
   "cell_type": "code",
   "execution_count": 23,
   "metadata": {},
   "outputs": [
    {
     "name": "stdout",
     "output_type": "stream",
     "text": [
      "Remaining articles after manual inspection: 214\n"
     ]
    },
    {
     "data": {
      "text/html": [
       "<div>\n",
       "<style scoped>\n",
       "    .dataframe tbody tr th:only-of-type {\n",
       "        vertical-align: middle;\n",
       "    }\n",
       "\n",
       "    .dataframe tbody tr th {\n",
       "        vertical-align: top;\n",
       "    }\n",
       "\n",
       "    .dataframe thead th {\n",
       "        text-align: right;\n",
       "    }\n",
       "</style>\n",
       "<table border=\"1\" class=\"dataframe\">\n",
       "  <thead>\n",
       "    <tr style=\"text-align: right;\">\n",
       "      <th></th>\n",
       "      <th>date</th>\n",
       "      <th>title</th>\n",
       "      <th>subtitle</th>\n",
       "      <th>reporter</th>\n",
       "      <th>link</th>\n",
       "      <th>norm_words</th>\n",
       "    </tr>\n",
       "  </thead>\n",
       "  <tbody>\n",
       "    <tr>\n",
       "      <th>63</th>\n",
       "      <td>15:27 27/01/2019</td>\n",
       "      <td>חשד: תלמיד כיתה יב' ברמת גן הפיץ סרטוני סקס עם...</td>\n",
       "      <td>בן ה-18 הלומד ברמת גן נעצר בשבוע שעבר. לפי החש...</td>\n",
       "      <td>אבי אשכנזי</td>\n",
       "      <td>https://news.walla.co.il/item/3215628</td>\n",
       "      <td>חשד תלמיד כיתה יב' רמת גנ הפיצ סרטונ סקס עמ תל...</td>\n",
       "    </tr>\n",
       "    <tr>\n",
       "      <th>120</th>\n",
       "      <td>12:11 22/01/2019</td>\n",
       "      <td>בעזרת הווטסאפ השכונתי: פדופיל נעצר בסמוך לגן י...</td>\n",
       "      <td>תושבי שכונת הדר יוסף דיווחו על הפדופיל בקבוצת ...</td>\n",
       "      <td>אבי אשכנזי</td>\n",
       "      <td>https://news.walla.co.il/item/3214708</td>\n",
       "      <td>בעזרת הווטסאפ שכונתי פדופיל נעצר סמוכ גנ ילד ת...</td>\n",
       "    </tr>\n",
       "    <tr>\n",
       "      <th>206</th>\n",
       "      <td>16:00 15/01/2019</td>\n",
       "      <td>נלקחה באיומים אל השירותים: חשד שנערה נאנסה בתח...</td>\n",
       "      <td>על פי החשד, בעל חנות במתחם הוביל באיומים ילדה ...</td>\n",
       "      <td>אבי אשכנזי</td>\n",
       "      <td>https://news.walla.co.il/item/3213427</td>\n",
       "      <td>נלקח איומ אל שירות חשד נערה נאנס תחנה מרכזי על...</td>\n",
       "    </tr>\n",
       "    <tr>\n",
       "      <th>263</th>\n",
       "      <td>11:19 10/01/2019</td>\n",
       "      <td>\"פעל תוך ניצול מעמדו\": הפרקליטות ערערה על זיכו...</td>\n",
       "      <td>הפרקליטות הגישה ערעור על הזיכוי מעבירות הפרת א...</td>\n",
       "      <td>דניאל דולב</td>\n",
       "      <td>https://news.walla.co.il/item/3212580</td>\n",
       "      <td>פעל תוכ ניצל מעמד פרקליטות ערער על זיכוי ניסה ...</td>\n",
       "    </tr>\n",
       "    <tr>\n",
       "      <th>315</th>\n",
       "      <td>09:27 06/01/2019</td>\n",
       "      <td>בגלל חשד להטרדה מינית של סוהרות: מפקד כלא ניצן...</td>\n",
       "      <td>ממלא מקום ניצב שירות בתי הסוהר זימן את מפקד הכ...</td>\n",
       "      <td>מערכת וואלה! חדשות</td>\n",
       "      <td>https://news.walla.co.il/item/3211560</td>\n",
       "      <td>בגלל חשד הטרדה מיני של סוהרת מפקד כלא ניצנ הוע...</td>\n",
       "    </tr>\n",
       "  </tbody>\n",
       "</table>\n",
       "</div>"
      ],
      "text/plain": [
       "                 date                                              title  \\\n",
       "63   15:27 27/01/2019  חשד: תלמיד כיתה יב' ברמת גן הפיץ סרטוני סקס עם...   \n",
       "120  12:11 22/01/2019  בעזרת הווטסאפ השכונתי: פדופיל נעצר בסמוך לגן י...   \n",
       "206  16:00 15/01/2019  נלקחה באיומים אל השירותים: חשד שנערה נאנסה בתח...   \n",
       "263  11:19 10/01/2019  \"פעל תוך ניצול מעמדו\": הפרקליטות ערערה על זיכו...   \n",
       "315  09:27 06/01/2019  בגלל חשד להטרדה מינית של סוהרות: מפקד כלא ניצן...   \n",
       "\n",
       "                                              subtitle            reporter  \\\n",
       "63   בן ה-18 הלומד ברמת גן נעצר בשבוע שעבר. לפי החש...          אבי אשכנזי   \n",
       "120  תושבי שכונת הדר יוסף דיווחו על הפדופיל בקבוצת ...          אבי אשכנזי   \n",
       "206  על פי החשד, בעל חנות במתחם הוביל באיומים ילדה ...          אבי אשכנזי   \n",
       "263  הפרקליטות הגישה ערעור על הזיכוי מעבירות הפרת א...          דניאל דולב   \n",
       "315  ממלא מקום ניצב שירות בתי הסוהר זימן את מפקד הכ...  מערכת וואלה! חדשות   \n",
       "\n",
       "                                      link  \\\n",
       "63   https://news.walla.co.il/item/3215628   \n",
       "120  https://news.walla.co.il/item/3214708   \n",
       "206  https://news.walla.co.il/item/3213427   \n",
       "263  https://news.walla.co.il/item/3212580   \n",
       "315  https://news.walla.co.il/item/3211560   \n",
       "\n",
       "                                            norm_words  \n",
       "63   חשד תלמיד כיתה יב' רמת גנ הפיצ סרטונ סקס עמ תל...  \n",
       "120  בעזרת הווטסאפ שכונתי פדופיל נעצר סמוכ גנ ילד ת...  \n",
       "206  נלקח איומ אל שירות חשד נערה נאנס תחנה מרכזי על...  \n",
       "263  פעל תוכ ניצל מעמד פרקליטות ערער על זיכוי ניסה ...  \n",
       "315  בגלל חשד הטרדה מיני של סוהרת מפקד כלא ניצנ הוע...  "
      ]
     },
     "execution_count": 23,
     "metadata": {},
     "output_type": "execute_result"
    }
   ],
   "source": [
    "# Remove false positives from the indices based on the above -- a lot, hopefully the full DB will\n",
    "# not have that many after removing some of the spamming words\n",
    "\n",
    "remov = {7, 21, 227, 55, 64, 331, 372, 459, 474, 542, 614, 645, 704, 780, 799, 800, 802, 894, 992, 1017, 1043, \n",
    "1129, 1265, 1295, 1303, 1349, 1459, 1476, 1543, 1686, 1698, 1699, 1803, 1824, 1892, 2149, 2210, 2329,\n",
    "2462, 2463, 2476, 2486, 2511, 2585, 2633, 2680, 2684, 2702, 2744, 2750, 2764, 2767, 2782, 2785, 2789,\n",
    "2902, 3023, 3047, 3059, 3063, 3131, 3143, 3154, 3159, 3180, 3186, 3199, 3221, 3493, 3496, 3514, 3526,\n",
    "3580, 3595, 3603, 3618, 3678, 3692, 3694, 3729, 3731, 3763, 3801, 3839, 3901, 4005, 4032, 4040, 4046,\n",
    "4083, 4115, 4125, 4126, 69, 96, 166, 182, 186, 188, 192, 193, 194, 640, 863, 2940, 2937, 4007, 4171,\n",
    "778, 853, 953, 2051, 2868, 1167, 1225, 1654, 3537, 3540, 3594, 3598, 3840, 531, 539, 552, 616,\n",
    "503, 516, 519, 955, 2929, 3239, 3386}\n",
    "\n",
    "for i in remov:\n",
    "    if i in indices:\n",
    "        indices.remove(i)\n",
    "    \n",
    "print('Remaining articles after manual inspection:',len(indices))\n",
    "\n",
    "# create a new dataframe with sexual assault articles only\n",
    "clean_df = new_df.iloc[indices,:]\n",
    "clean_df.head()"
   ]
  },
  {
   "cell_type": "markdown",
   "metadata": {},
   "source": [
    "# Analysis begins here"
   ]
  },
  {
   "cell_type": "markdown",
   "metadata": {},
   "source": [
    "### 1. Word Cloud"
   ]
  },
  {
   "cell_type": "code",
   "execution_count": 44,
   "metadata": {},
   "outputs": [],
   "source": [
    "# create a word counts dictionary across the corpus from the norm_words column\n",
    "\n",
    "word_counts= {} # holds the result\n",
    "\n",
    "# for each collection of words in a title+subtitle\n",
    "for wrds in clean_df['norm_words'].values: \n",
    "    # create a count dictionary for it \n",
    "    keys, values = np.unique(wrds.split(' '), return_counts=True)\n",
    "    temp_dict = dict(zip(keys, values))\n",
    "    \n",
    "    # add it to the total counter 'word_counts'\n",
    "    word_counts = {key: word_counts.get(key, 0) + temp_dict.get(key, 0)\n",
    "          for key in set(word_counts) | set(temp_dict)}\n",
    "    \n",
    "# sort by word frequency \n",
    "sorted_words = {k: v for k, v in sorted(word_counts.items(), key=lambda item: item[1], reverse=True)}\n",
    "\n",
    "# remove some irrelevat words like 'with', 'of', 'all', 'no', etc.\n",
    "redundant_words = ['את', \n",
    "                   'על',\n",
    "                   'של',\n",
    "                   'הוא',\n",
    "                   'כי',\n",
    "                   'לא',\n",
    "                   'נגד',\n",
    "                   'עמ',\n",
    "                   'היה',\n",
    "                   'זה',\n",
    "                   'יומ',\n",
    "                   'בית', \n",
    "                   'בת', \n",
    "                   'לאחר', \n",
    "                   'נוספ', \n",
    "                   'כל',]\n",
    "\n",
    "# remove the words\n",
    "for w in redundant_words:\n",
    "    sorted_words.pop(w,None)\n",
    "    \n",
    "# sorted_words\n",
    "# for later, I could consider joining together some very close words - sex and sexual"
   ]
  },
  {
   "cell_type": "code",
   "execution_count": 25,
   "metadata": {},
   "outputs": [
    {
     "data": {
      "text/plain": [
       "<matplotlib.figure.Figure at 0x2652246a8d0>"
      ]
     },
     "metadata": {},
     "output_type": "display_data"
    },
    {
     "data": {
      "image/png": "[encoded data removed]",
      "text/plain": [
       "<matplotlib.figure.Figure at 0x2652246a978>"
      ]
     },
     "metadata": {},
     "output_type": "display_data"
    }
   ],
   "source": [
    "# build world cloud\n",
    "\n",
    "### Option 1: Create word cloud from the word frequencies as found in the previous cell\n",
    "\n",
    "def final_letter(word):\n",
    "    '''A function that fixes the final letter of a word for the correct form\n",
    "       because in Hebrew some letters are written differently in the end of a word'''\n",
    "    if word.endswith('מ'):\n",
    "        word = word[:-1]+'ם'\n",
    "\n",
    "    elif word.endswith('כ'):\n",
    "        word = word[:-1]+'ך'\n",
    "\n",
    "    elif word.endswith('נ'):\n",
    "        word = word[:-1]+'ן'\n",
    "\n",
    "    elif word.endswith('פ'):\n",
    "        word = word[:-1]+'ף'\n",
    "\n",
    "    elif word.endswith('צ'):\n",
    "        word = word[:-1]+'ץ'\n",
    "        \n",
    "    return word\n",
    "\n",
    "bidi_dict = {} # new dictionary for reversed keys (words) for presentation\n",
    "for k,v in sorted_words.items():\n",
    "    bidi_dict[get_display(final_letter(k))] = v # get_display from the bidi library for chaning the order\n",
    "\n",
    "# create wordcloud object\n",
    "wc1 = WordCloud(background_color=\"white\", width=1000, height=500,\n",
    "                font_path='david.ttf', max_words=30, min_font_size=8, \n",
    "                normalize_plurals=False).generate_from_frequencies(bidi_dict)\n",
    "\n",
    "##\n",
    "### Option 2: Create word cloud from the entire norm_words column as a chunk\n",
    "## \n",
    "\n",
    "# # create a long bulk of text from the entire norm_words column\n",
    "# all_words = ' '.join(clean_df.norm_words.values)\n",
    "\n",
    "# # words to exclude when counting - 'of', 'his', 'with', etc.\n",
    "# stopwords = ['את',\n",
    "#                'על',\n",
    "#                'של',\n",
    "#                'הוא',\n",
    "#                'כי',\n",
    "#                'לא',\n",
    "#                'נגד',\n",
    "#                'עמ',\n",
    "#                'היה',\n",
    "#                'זה',\n",
    "#                'יומ',\n",
    "#                'לאחר',\n",
    "#                'בית', \n",
    "#                'בת', \n",
    "#                'כל']\n",
    "\n",
    "# # convert text and words for left-to-write presentation\n",
    "# bidi_text = get_display(all_words)\n",
    "# bidi_stop = {get_display(w) for w in stopwords}\n",
    "\n",
    "# create figure\n",
    "plt.figure(figsize=(12,6))\n",
    "\n",
    "# ### create word cloud object\n",
    "# wc2 = WordCloud(background_color=\"white\", width=1000, height=500,\n",
    "#                font_path='david.ttf', stopwords=bidi_stop, max_words=30, \n",
    "#                min_font_size=8, normalize_plurals=False, regexp=None).generate_from_text(bidi_text)\n",
    "\n",
    "\n",
    "# plot both\n",
    "#plt.subplot(1,2,1)\n",
    "plt.figure(figsize=(10,5))\n",
    "#plt.title('From word frequncies')\n",
    "plt.imshow(wc1, interpolation='bilinear')\n",
    "plt.axis(\"off\")\n",
    "\n",
    "# plt.subplot(1,2,2)\n",
    "# plt.title('From raw text column')\n",
    "# plt.imshow(wc2, interpolation='bilinear')\n",
    "# plt.axis(\"off\")\n",
    "\n",
    "plt.show()"
   ]
  },
  {
   "cell_type": "code",
   "execution_count": 26,
   "metadata": {},
   "outputs": [
    {
     "data": {
      "text/plain": [
       "(112, 112)"
      ]
     },
     "execution_count": 26,
     "metadata": {},
     "output_type": "execute_result"
    }
   ],
   "source": [
    "sum(clean_df.norm_words.str.count('אונס')), sorted_words['אונס']"
   ]
  },
  {
   "cell_type": "markdown",
   "metadata": {},
   "source": [
    "#### Comments\n",
    "There are two options above - cloud from the raw text and from the word frequencies function. Looks like for some reason the raw text column word cloud is not accurate, because the frequency dictionary correctly identified the number of mentions of a word (rape - 112 above), but it was tiny when building the cloud with raw text. So I'm using the dictionary above.\n",
    " \n",
    "The main thing that stands out here is that most words revolve around the criminal aspect of sexual assault: the largest ones (except for rape, 3rd most common) are suspect (male), allegations, child, arrest, sex, police, investigation, violation, criminal charges. These are followed by arrested, trial, defendant, criminal record. Given that this is just the titles, perhaps it's reasonable that criminal-legal terminology is there? Would it be better if there was more focus on the victim and what happened to here rather than reporting on the suspect first? Not sure.\n",
    "\n",
    "To say something meaningful about the use of lenient terms that are not rape when it is a potential rape case will probably be hard - the cases that do not use this word will have to be looked quite closely, and I doubt I'll have some automated word-based way of knowing. "
   ]
  },
  {
   "cell_type": "markdown",
   "metadata": {},
   "source": [
    "### 2. Lawyer mentions \n",
    "How much space is given to lawyers, and what messages are highlighted by featuring them?"
   ]
  },
  {
   "cell_type": "code",
   "execution_count": 27,
   "metadata": {},
   "outputs": [
    {
     "name": "stdout",
     "output_type": "stream",
     "text": [
      "Articles with some legal reference: 27 of 214 articles\n"
     ]
    }
   ],
   "source": [
    "legal = ['עורכ דינ',\n",
    "        'ערכ דינ',\n",
    "        #'פרקליט', removed because of praklitut spam\n",
    "        'סנגור',\n",
    "        'עו\"ד']\n",
    "\n",
    "\n",
    "# find number of legal words in each article\n",
    "legal_words = clean_df['norm_words'].str.count('|'.join(legal))\n",
    "\n",
    "print(f'Articles with some legal reference: {sum(legal_words > 0)} of {clean_df.shape[0]} articles')"
   ]
  },
  {
   "cell_type": "code",
   "execution_count": 45,
   "metadata": {},
   "outputs": [],
   "source": [
    "# look at the content of these articles - a lot around one case of the 7yo and cyprus, \n",
    "# did not address them below because these were longer stories and both sides had different items\n",
    "\n",
    "legal_indices = clean_df.index[legal_words>0].tolist()\n",
    "for i in legal_indices:\n",
    "    print(i, '\\n', new_df.title.values[i] ,'\\n', new_df.subtitle.values[i])"
   ]
  },
  {
   "cell_type": "markdown",
   "metadata": {},
   "source": [
    "#### Comments\n",
    "Strong negative examples of bad practices: 1643, 2307, 2626, 2814\n",
    "\n",
    "'He denies' but no voice for the victim: 1149, 1826, 2233, 2606, 2821, 3719, 3800, 4019, 4132\n",
    "\n",
    "The lawyer of the victim: 1794, 1854, 1564, 2605, 2621, 3751, 3917\n",
    "\n",
    "It appears to me that this part has the potential to feature some examples of the different types of coverage rather than perform some quantitative analysis on number of mentions etc. Show some examples were the victim's voice was highlighted and others that focused on the defendant, from 'denial' to worse ('he could not stop himself'... jesus). I might try to quantify this ratiom, but it might take some work and I'm not sure how strong will it be.\n",
    "\n",
    "Maybe I could try to use these references to find what the lawyers are saying every time (if only they would always put it in quotation marks...) - then it would be easier to analyze these for the above questions. "
   ]
  },
  {
   "cell_type": "markdown",
   "metadata": {},
   "source": [
    "### 3. Gendered verbs - what did both sides do?\n",
    "\n",
    "#### A. Look at one article"
   ]
  },
  {
   "cell_type": "code",
   "execution_count": 29,
   "metadata": {},
   "outputs": [
    {
     "data": {
      "text/html": [
       "<div>\n",
       "<style scoped>\n",
       "    .dataframe tbody tr th:only-of-type {\n",
       "        vertical-align: middle;\n",
       "    }\n",
       "\n",
       "    .dataframe tbody tr th {\n",
       "        vertical-align: top;\n",
       "    }\n",
       "\n",
       "    .dataframe thead th {\n",
       "        text-align: right;\n",
       "    }\n",
       "</style>\n",
       "<table border=\"1\" class=\"dataframe\">\n",
       "  <thead>\n",
       "    <tr style=\"text-align: right;\">\n",
       "      <th></th>\n",
       "      <th>normalized</th>\n",
       "      <th>gender</th>\n",
       "      <th>context</th>\n",
       "    </tr>\n",
       "  </thead>\n",
       "  <tbody>\n",
       "    <tr>\n",
       "      <th>0</th>\n",
       "      <td>הרס</td>\n",
       "      <td>MALE</td>\n",
       "      <td>''הרס לי את</td>\n",
       "    </tr>\n",
       "    <tr>\n",
       "      <th>1</th>\n",
       "      <td>הוגשה</td>\n",
       "      <td>FEMALE</td>\n",
       "      <td>עבירות מין הצהרת תובע הוגשה נגד</td>\n",
       "    </tr>\n",
       "    <tr>\n",
       "      <th>2</th>\n",
       "      <td>היה</td>\n",
       "      <td>FEMALE</td>\n",
       "      <td>לפני 20 שנה, מאז שהייתה בת</td>\n",
       "    </tr>\n",
       "    <tr>\n",
       "      <th>3</th>\n",
       "      <td>אירע</td>\n",
       "      <td>MALE</td>\n",
       "      <td>החשד, לפחות אחד המקרים אירע בחדר</td>\n",
       "    </tr>\n",
       "  </tbody>\n",
       "</table>\n",
       "</div>"
      ],
      "text/plain": [
       "  normalized  gender                           context\n",
       "0        הרס    MALE                       ''הרס לי את\n",
       "1      הוגשה  FEMALE   עבירות מין הצהרת תובע הוגשה נגד\n",
       "2        היה  FEMALE        לפני 20 שנה, מאז שהייתה בת\n",
       "3       אירע    MALE  החשד, לפחות אחד המקרים אירע בחדר"
      ]
     },
     "execution_count": 29,
     "metadata": {},
     "output_type": "execute_result"
    }
   ],
   "source": [
    "# find all verbs in a given row (title+subtitle)\n",
    "row_id = 11 # the row to look at\n",
    "\n",
    "# a long string and an array of words for that row\n",
    "original_text = clean_df.title.values[row_id]+' '+clean_df.subtitle.values[row_id]\n",
    "original_words = original_text.split(' ')\n",
    "\n",
    "# get result from API\n",
    "request = {'token': 'EGxhAVjlYSoRNsN', 'readable': False,\n",
    "           'paragraph':  original_text}\n",
    "\n",
    "result = requests.post('https://hebrew-nlp.co.il/service/Morphology/Analyze', json=request).json()\n",
    "\n",
    "# array to store rows for a little dataframe that shows the \n",
    "# verb, gender, and sentence context to look at results closely\n",
    "verbs=[]\n",
    "word_id = 0\n",
    "\n",
    "# iterate over all words in the result\n",
    "for sentence in result:\n",
    "     for word in sentence:\n",
    "        best_option = word[0] # get the best-guess normalized word \n",
    "        if len(best_option['baseWord']) <= 1: # ignore punctuation\n",
    "            continue\n",
    "            \n",
    "        if best_option['partOfSpeech'] == 'VERB':\n",
    "            new_verb = { # create a new row\n",
    "                'normalized' : best_option['baseWord'], # the verb\n",
    "                'gender': best_option['gender'], # the gender\n",
    "                'context': (' ').join(original_words[ # context in sentence\n",
    "                    max(0,word_id-3):min(word_id+3, len(original_words))])\n",
    "                }\n",
    "            \n",
    "            # add the suffix for feminine verbs for easy read\n",
    "            if new_verb['gender']=='FEMALE' and new_verb['normalized'][-1]!='ה':\n",
    "                new_verb['normalized'] = new_verb['normalized']+'ה'\n",
    "            verbs.append(new_verb)\n",
    "        word_id+=1\n",
    "\n",
    "pd.DataFrame(verbs) "
   ]
  },
  {
   "cell_type": "markdown",
   "metadata": {},
   "source": [
    "#### Comments \n",
    "1. One complication is that even though with adults 99% of cases have a male perpetrator and female victim, with children victims (which are, unfortunately, a subset of cases) there are some male victims, and more rarely, female perpetrators. I might try to count exactly how many of such cases to understand if it's significant or just stands out most clearly.\n",
    "2. Verbs can sometimes be associated with lawyers, police, court (praklitut) - makes it harder. Although these might even out - some of these are masculine and some feminine. maybe i'll have to count these to make sure it does. not sure it's THAT worth it.\n",
    "3. Misidentifications by the linguistic analyzer - the word for lawyer has an embedded verb in it. Can be removed after when looking at the list, though. I don't think I'll do anything else except for that + acknowledging it. It doesn't look like it happens very often.\n",
    "4. If there are multiple offenders, the verb comes up as 'both' because it's not gendered in plural. So that's one reason to think that the male verbs results actually underestimate the true numbers. "
   ]
  },
  {
   "cell_type": "markdown",
   "metadata": {},
   "source": [
    "#### 3B. Find verbs in all articles"
   ]
  },
  {
   "cell_type": "code",
   "execution_count": 31,
   "metadata": {},
   "outputs": [
    {
     "name": "stderr",
     "output_type": "stream",
     "text": [
      "100%|██████████| 214/214 [00:40<00:00,  5.35it/s]\n"
     ]
    }
   ],
   "source": [
    "def get_all_terms(original_text, partOfSpeech):\n",
    "    ''' Takes in the entire title+subtitle columns as a long string, and the part of speech to search of\n",
    "        Returns to arrays, one for each gender, of the part of speech desired (e.g. verb)'''\n",
    "    \n",
    "    # array to hold results\n",
    "    all_m_verbs, all_f_verbs = [], []\n",
    "    \n",
    "    for i in tqdm(range(len(original_text))):\n",
    "        # get a result from API\n",
    "        request = {'token': 'EGxhAVjlYSoRNsN', 'readable': False,\n",
    "                   'paragraph':  original_text[i]}\n",
    "\n",
    "        result = requests.post('https://hebrew-nlp.co.il/service/Morphology/Analyze', json=request).json()\n",
    "\n",
    "        # arrays to store verbs\n",
    "        row_m_verbs=[]\n",
    "        row_f_verbs=[]\n",
    "\n",
    "        # iterate over all words in the result\n",
    "        for sentence in result:\n",
    "             for word in sentence:\n",
    "                best_option = word[0] # get the best-guess normalized word \n",
    "                if len(best_option['baseWord']) <= 1: # ignore punctuation\n",
    "                    continue\n",
    "\n",
    "                if best_option['partOfSpeech'] == partOfSpeech: # if a verb, add to respective array\n",
    "                    if best_option['gender'] =='MALE':\n",
    "                        row_m_verbs.append(best_option['baseWord'])\n",
    "\n",
    "                    # add the suffix for feminine verbs for easy read\n",
    "                    elif best_option['gender'] =='FEMALE':\n",
    "                        row_f_verbs.append(best_option['baseWord']+'ה')\n",
    "\n",
    "        all_m_verbs.append(' '.join(row_m_verbs))\n",
    "        all_f_verbs.append(' '.join(row_f_verbs))\n",
    "        \n",
    "    return all_m_verbs, all_f_verbs\n",
    "\n",
    "# a joint string for title and subtitle\n",
    "original_text = clean_df.title.values+' '+clean_df.subtitle.values\n",
    "\n",
    "# array to store two new columns: all masculine/feminene verbs in the article\n",
    "all_m_verbs, all_f_verbs = get_all_terms(original_text, 'VERB')"
   ]
  },
  {
   "cell_type": "code",
   "execution_count": 32,
   "metadata": {},
   "outputs": [],
   "source": [
    "# optionally, add that to the df as a column\n",
    "# clean_df.loc[:,'m_verbs'] = all_m_verbs\n",
    "# clean_df.loc[:,'f_verbs'] = all_f_verbs\n",
    "\n",
    "# get a sorted version of verb occurences \n",
    "def get_sorted_counts(all_verbs):\n",
    "    '''Takes in an array of strings that contain all verbs separated by whitespaces\n",
    "    returns a sorted count dictionary across all elements in the input array'''\n",
    "    verbs_counts= {} # holds the result\n",
    "\n",
    "    # for each collection of words in a title+subtitle\n",
    "    for wrds in all_verbs: \n",
    "        # create a count dictionary for it \n",
    "        keys, values = np.unique(wrds.split(' '), return_counts=True)\n",
    "        temp_dict = dict(zip(keys, values))\n",
    "\n",
    "        # add it to the total counter 'word_counts'\n",
    "        verbs_counts = {key: verbs_counts.get(key, 0) + temp_dict.get(key, 0)\n",
    "              for key in set(verbs_counts) | set(temp_dict)}\n",
    "\n",
    "    verbs_counts.pop('') # remove an empty entry that gets created\n",
    "    sorted_ = sorted(verbs_counts.items(), key=lambda x: x[1], reverse=True) # sort by frequency\n",
    "    return(sorted_)\n",
    "\n",
    "# get for male and female\n",
    "m_sorted=np.array(get_sorted_counts(all_m_verbs))\n",
    "f_sorted=np.array(get_sorted_counts(all_f_verbs))"
   ]
  },
  {
   "cell_type": "code",
   "execution_count": 33,
   "metadata": {},
   "outputs": [],
   "source": [
    "# remove verbs that clearly do not talk about either person - marked by index\n",
    "m_remv = [1, 2, 10, 15, 18]\n",
    "f_remv = [1, 3, 7, 9, 13, 14, 15]\n",
    "\n",
    "# remove by index and covert to the same format - np array with elements (verb, count) \n",
    "m_sorted = np.array([(i[0],i[1]) for j, i in enumerate(m_sorted) if j not in m_remv])\n",
    "f_sorted = np.array([(i[0],i[1]) for j, i in enumerate(f_sorted) if j not in f_remv])"
   ]
  },
  {
   "cell_type": "code",
   "execution_count": 41,
   "metadata": {
    "scrolled": false
   },
   "outputs": [
    {
     "data": {
      "image/png": "[encoded data removed]",
      "text/plain": [
       "<matplotlib.figure.Figure at 0x265226ae908>"
      ]
     },
     "metadata": {},
     "output_type": "display_data"
    }
   ],
   "source": [
    "# print bar plots\n",
    "\n",
    "# select top 20\n",
    "topN = 20\n",
    "\n",
    "# make lists with the verbs and frequencies\n",
    "m_verbs = [get_display(final_letter(_)) for _ in m_sorted[:topN,0]]\n",
    "m_counts = m_sorted[:topN,1].astype(int)\n",
    "\n",
    "f_verbs = [get_display(final_letter(_)) for _ in f_sorted[:topN,0]]\n",
    "f_counts = f_sorted[:topN,1].astype(int)\n",
    "\n",
    "fig, (ax1,ax2) = plt.subplots(1, 2, figsize=(16,8))\n",
    "\n",
    "# masculine\n",
    "ax1.barh(np.arange(len(m_verbs)), m_counts)\n",
    "ax1.set_yticklabels(m_verbs, fontsize=14)\n",
    "ax1.set_yticks(np.arange(len(m_verbs)))\n",
    "ax1.invert_yaxis()  # labels read top-to-bottom\n",
    "ax1.set_xlabel('Frequency', fontsize=14)\n",
    "ax1.set_title('Top 20 Masculine Verbs in Title & Subtitle', fontsize=16)\n",
    "\n",
    "# feminine\n",
    "ax2.barh(np.arange(len(f_verbs)), f_counts, color='orange')\n",
    "ax2.set_xlim(0,max(m_counts))\n",
    "ax2.set_yticklabels(f_verbs, fontsize=14)\n",
    "ax2.set_yticks(np.arange(len(f_verbs)))\n",
    "ax2.invert_yaxis()  # labels read top-to-bottom\n",
    "ax2.set_xlabel('Frequency', fontsize=14)\n",
    "ax2.set_title('Top 20 Feminine Verbs Title & Subtitle', fontsize=16)\n",
    "plt.show()"
   ]
  },
  {
   "cell_type": "code",
   "execution_count": 42,
   "metadata": {},
   "outputs": [
    {
     "data": {
      "text/plain": [
       "(918, 349)"
      ]
     },
     "execution_count": 42,
     "metadata": {},
     "output_type": "execute_result"
    }
   ],
   "source": [
    "# number of verbs per category\n",
    "sum(m_sorted[:,1].astype(int)), sum(f_sorted[:,1].astype(int))"
   ]
  }
 ],
 "metadata": {
  "kernelspec": {
   "display_name": "Python 3",
   "language": "python",
   "name": "python3"
  },
  "language_info": {
   "codemirror_mode": {
    "name": "ipython",
    "version": 3
   },
   "file_extension": ".py",
   "mimetype": "text/x-python",
   "name": "python",
   "nbconvert_exporter": "python",
   "pygments_lexer": "ipython3",
   "version": "3.6.8"
  }
 },
 "nbformat": 4,
 "nbformat_minor": 2
}
